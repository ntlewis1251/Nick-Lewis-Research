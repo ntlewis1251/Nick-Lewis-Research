{
 "cells": [
  {
   "cell_type": "code",
   "execution_count": 1,
   "id": "0d0335c2",
   "metadata": {},
   "outputs": [
    {
     "name": "stderr",
     "output_type": "stream",
     "text": [
      "/sciclone/home/ntlewis/Nick-Lewis-Research/.conda/lib/python3.8/site-packages/lsdtopytools/geoconvtools.py:79: NumbaDeprecationWarning: \u001b[1mThe keyword argument 'nopython=False' was supplied. From Numba 0.59.0 the default is being changed to True and use of 'nopython=False' will raise a warning as the argument will have no effect. See https://numba.readthedocs.io/en/stable/reference/deprecation.html#deprecation-of-object-mode-fall-back-behaviour-when-using-jit for details.\u001b[0m\n",
      "  @nb.jit(nopython = False)\n",
      "/sciclone/home/ntlewis/Nick-Lewis-Research/.conda/lib/python3.8/site-packages/lsdtopytools/numba_tools.py:73: NumbaDeprecationWarning: \u001b[1mThe keyword argument 'nopython=False' was supplied. From Numba 0.59.0 the default is being changed to True and use of 'nopython=False' will raise a warning as the argument will have no effect. See https://numba.readthedocs.io/en/stable/reference/deprecation.html#deprecation-of-object-mode-fall-back-behaviour-when-using-jit for details.\u001b[0m\n",
      "  @nb.jit(nopython=False, parallel = True)\n"
     ]
    }
   ],
   "source": [
    "import lsdtopytools"
   ]
  },
  {
   "cell_type": "code",
   "execution_count": null,
   "id": "30d91be7",
   "metadata": {},
   "outputs": [],
   "source": [
    "def make_ksn_df(path, dem_name):\n",
    "    mydem = lsd.LSDDEM(path, dem_name)\n",
    "    print('Raster Loaded')\n",
    "    mydem.PreProcessing()\n",
    "    print('PreProcessed')\n",
    "    mydem.CommonFlowRoutines()\n",
    "    print('Flow routines got')\n",
    "    mydem.ExtractRiverNetwork()\n",
    "    print('River Network Extracted')\n",
    "    mydem.DefineCatchment(method='main_basin')\n",
    "    print('Catchment defined')\n",
    "    mydem.GenerateChi()\n",
    "    print('Chi generated')\n",
    "    mydem.ksn_MuddEtAl2014(target_nodes=70, n_iterations=60, skip=1, minimum_segment_length=10, sigma=2,  nthreads = 1, reload_if_same = False)\n",
    "    mydem.knickpoint_extraction(lambda_TVD = \"auto\", combining_window = 30, window_stepped = 80, n_std_dev = 7)\n",
    "    knickpoint_df = mydem.df_knickpoint\n",
    "    knickpoint_df.to_csv(f'/sciclone/home/ntlewis/Nick-Lewis-Research/working_files/data/{dem_name}_knickpoints.csv')"
   ]
  }
 ],
 "metadata": {
  "kernelspec": {
   "display_name": "Python 3",
   "language": "python",
   "name": "python3"
  },
  "language_info": {
   "codemirror_mode": {
    "name": "ipython",
    "version": 3
   },
   "file_extension": ".py",
   "mimetype": "text/x-python",
   "name": "python",
   "nbconvert_exporter": "python",
   "pygments_lexer": "ipython3",
   "version": "3.8.12"
  }
 },
 "nbformat": 4,
 "nbformat_minor": 5
}
