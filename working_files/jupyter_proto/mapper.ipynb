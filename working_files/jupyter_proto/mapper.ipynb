{
 "cells": [
  {
   "cell_type": "markdown",
   "id": "542a5e74",
   "metadata": {},
   "source": [
    "# Bulk Watershed DEM Downloader.\n",
    "By - Nick Lewis.\\\n",
    "Advisors - Joanmarie Del Vecchio, Chuck Bailey."
   ]
  },
  {
   "cell_type": "markdown",
   "id": "253cd715",
   "metadata": {},
   "source": [
    "# Code begins here!\n",
    "\n",
    "#### Below is a 'code cell'.  This is a block of text that Jupyter and Python use to perform tasks.\n",
    "\n",
    "#### To run the following code cell and all code cells below, select the cell and press\n",
    "# <p style=\"color: aqua;\">Shift+Enter.</p>"
   ]
  },
  {
   "cell_type": "code",
   "execution_count": 1,
   "id": "adbb3d77",
   "metadata": {},
   "outputs": [],
   "source": [
    "# Import packages to our notebook.\n",
    "# We must do this to use the functions contained inside the packages.\n",
    "# Some functions have 'as' in the import call.  This is for less typing, and nothing else.\n",
    "# Google any package name and 'docs' in order to find more detailed explanation of any one package.\n",
    "import numpy as np\n",
    "import pandas as pd\n",
    "import matplotlib.pyplot as plt\n",
    "import matplotlib.patches as patches\n",
    "%matplotlib inline\n",
    "import geopandas as gpd\n",
    "import xdem\n",
    "import os\n",
    "import rasterio as rio\n",
    "from rasterio.plot import show\n",
    "import glob\n",
    "from concurrent.futures import ThreadPoolExecutor\n",
    "import requests\n",
    "import shapely\n",
    "from tqdm import tqdm\n",
    "import json\n",
    "from shapely.geometry import shape\n",
    "from rasterio.mask import mask\n",
    "from rasterio.crs import CRS\n",
    "import rioxarray as rxr\n",
    "from shapely import wkt\n",
    "from pyproj import Proj, transform\n",
    "import seaborn as sns\n",
    "import warnings\n",
    "warnings.filterwarnings(\"ignore\")"
   ]
  },
  {
   "cell_type": "markdown",
   "id": "1c1e038a",
   "metadata": {},
   "source": [
    "#### Below is a code cell containing our **Constant** Variables, which you may change as you see fit for your particular analyses.\n",
    "\n",
    "#### Below are \n",
    "- Integers\n",
    "- Lists (denoted by square brackets at the beginning and end, separated by commas [a, b, c, d])\n",
    "- Strings (contained within quotes 'Like this!')"
   ]
  },
  {
   "cell_type": "code",
   "execution_count": 10,
   "id": "5c8d7f95",
   "metadata": {},
   "outputs": [],
   "source": [
    "# Every time you change something within the code cell, run it once more to update the variable.\n",
    "\n",
    "BOUNDS = [38.985453, -78.975131, 38.336868, -80.04401] # In decimal coordinate form.  Format: [N, E, S, W].  Select the smallest area possible in your analyses for maximum resoultion!  \n",
    "\n",
    "API_KEY = '9086887f175d33aa72eda767f5b1e9cd' # Get your API key from opentopography.org.  Students get higher resolution data!\n",
    "\n",
    "DEM_DATASET = 'USGS30m' # Options are USGS30m, USGS10m, & USGS1m.  Be warned!  As resolution goes up, available download area goes down.\n",
    "\n",
    "PROJ_TITLE = 'wv_lower' # Create a succinct name with no spaces or leading digits to represent your project file for future exports.\n",
    "\n",
    "PATH = os.getcwd()"
   ]
  },
  {
   "cell_type": "markdown",
   "id": "0cb2a604",
   "metadata": {},
   "source": [
    "#### If you can't remember what a function does, call the help() function and pass the name of the function you are wondering about inside the colons."
   ]
  },
  {
   "cell_type": "code",
   "execution_count": 11,
   "id": "4301ea6d",
   "metadata": {},
   "outputs": [],
   "source": [
    "def lsht(dem_dir=f'{PATH}/{PROJ_TITLE}/wshed_dems'):\n",
    "    \"\"\"\n",
    "\n",
    "    \"\"\"\n",
    "    path_list = glob.glob(f'{dem_dir}/*.tiff') # Create a list of all the paths to our watershed DEMs.\n",
    "    \n",
    "    def df_maker(path):\n",
    "        dem = xdem.DEM(path) # Load in the DEM.\n",
    "        tri = dem.terrain_ruggedness_index(window_size=3) # Make an SLRM (Simple Local Relief Model) of the DEM.  3 pix window size.\n",
    "\n",
    "        # Next we are going to find the 10th percentile relief for the dem.\n",
    "        t_data = tri.data # Get our data.\n",
    "        t_data = np.asarray(t_data)\n",
    "        t_valid_mask = ~np.isnan(t_data)\n",
    "        t_valid = t_data[t_valid_mask] # Create a mask that is false if it is nan.  Extract valid values.\n",
    "        perc_10th = np.percentile(t_valid, 10) # From valid values, get 10th percentile.\n",
    "        t_bool_mask = np.where(t_valid_mask & (t_data < perc_10th), True, False) # True if data is valid and below 10th percentile. False otherwise.\n",
    "\n",
    "        # We now repeat the process to find the 90th percentile elevation.\n",
    "        e_data = dem.data\n",
    "        e_data = np.asarray(e_data)\n",
    "        e_valid_mask = ~np.isnan(e_data)\n",
    "        e_valid = e_data[e_valid_mask] # Create a mask that is false if it is nan.  Extract valid values.\n",
    "        perc_90th = np.percentile(e_valid, 90) # From valid values, get 10th percentile.\n",
    "        e_bool_mask = np.where(e_valid_mask &  (e_data > perc_90th), True, False)\n",
    "\n",
    "        # Get the name for our export csv.\n",
    "        name = path.split(sep='/')\n",
    "        name = name[-1][:-5]\n",
    "\n",
    "        # Create our df.\n",
    "        # First get our coordinate values.\n",
    "        nrows, ncols = tri.data.shape\n",
    "        rows, cols = np.indices((nrows, ncols))\n",
    "        xs, ys = tri.transform * (cols, rows)\n",
    "\n",
    "        names = [name] * len(xs.flatten())\n",
    "\n",
    "        data = {'lon':xs.flatten(), 'lat':ys.flatten(), 'b_10_s':t_bool_mask.flatten(), 'abv_90_t':e_bool_mask.flatten(), 'Wshed_name':names}\n",
    "        df = pd.DataFrame(data=data)\n",
    "        return df\n",
    "        \n",
    "    \n",
    "    with ThreadPoolExecutor() as executor:\n",
    "        results_iter = executor.map(df_maker, path_list)\n",
    "        results = list(results_iter)\n",
    "\n",
    "    return results\n",
    "\n",
    "lsht_list = lsht()"
   ]
  },
  {
   "cell_type": "code",
   "execution_count": 12,
   "id": "883159ce",
   "metadata": {},
   "outputs": [
    {
     "name": "stdout",
     "output_type": "stream",
     "text": [
      "Directory exists\n"
     ]
    }
   ],
   "source": [
    "def kp_retriever(lsht_list, chi_plot = False):\n",
    "    kp_list = []\n",
    "    if chi_plot == True:\n",
    "        try:\n",
    "            os.mkdir(f'{PATH}/{PROJ_TITLE}/chi_plots')\n",
    "            print(f'Directory \"{PATH}/{PROJ_TITLE}/chi_plots\" created successfully.')\n",
    "        except FileExistsError:\n",
    "            print('Directory exists')\n",
    "        except Exception as e:\n",
    "            print(f'An error occurred: {e}')\n",
    "    for df in lsht_list:\n",
    "        wshed_name = df.iloc[0].Wshed_name\n",
    "        ksn_df = pd.read_csv(f'{PATH}/{PROJ_TITLE}/ksn_csvs/{wshed_name}_reproj_knickpoints.csv')\n",
    "        in_proj = Proj(init='epsg:2283')  # Replace with your specific easting/northing EPSG code\n",
    "        out_proj = Proj(init='epsg:4269')   # WGS84 for latitude/longitude\n",
    "        easting = ksn_df.x.values  # Example easting\n",
    "        northing = ksn_df.y.values # Example northing\n",
    "        longitude, latitude = transform(in_proj, out_proj, easting, northing)\n",
    "        ksn_df['longitude'] = longitude\n",
    "        ksn_df['latitude'] = latitude\n",
    "        ksn_df['wshed'] = [wshed_name]*len(ksn_df)\n",
    "        if chi_plot == True:\n",
    "            fig, ax = plt.subplots(figsize=(10,10))\n",
    "            sns.scatterplot(data=ksn_df, x='flow_distance', y='chi', c='k', alpha=0.5, s=10, ax=ax)\n",
    "            sns.scatterplot(data=ksn_df, x='flow_distance', y='chi', hue=np.abs(np.asarray(ksn_df['delta_ksn'])))\n",
    "            plt.legend(title = r'Knickpoint $\\Delta k_{sn}$')\n",
    "            wshed_name_sp = wshed_name.replace('_', ' ')\n",
    "            plt.title(f'{wshed_name_sp} $\\chi$ plot')\n",
    "            plt.savefig(f'{PATH}/{PROJ_TITLE}/chi_plots/{wshed_name}_chiplot.png')\n",
    "            plt.close()\n",
    "        kp_list.append(ksn_df)\n",
    "    return kp_list\n",
    "kp_list = kp_retriever(lsht_list, chi_plot=True)"
   ]
  },
  {
   "cell_type": "code",
   "execution_count": 13,
   "id": "3d65cb6c",
   "metadata": {},
   "outputs": [],
   "source": [
    "def mapper(df, ksn_df):\n",
    "    try:\n",
    "        os.mkdir(f'{PATH}/{PROJ_TITLE}/kps_mapped')\n",
    "    except FileExistsError:\n",
    "        print('Directory exists')\n",
    "    except Exception as e:\n",
    "        print(f'An Error occured : {e}')\n",
    "    ls = df['b_10_s'] == True\n",
    "    ht = df['abv_90_t'] == True\n",
    "    df_masked = df[ls & ht]\n",
    "    xs = df_masked.lon\n",
    "    ys = df_masked.lat\n",
    "    wshed_name = df_masked.iloc[0].Wshed_name\n",
    "    fig, ax = plt.subplots(figsize=(20,20), dpi=200)\n",
    "    with rio.open(f'{PATH}/{PROJ_TITLE}/wshed_dems/{wshed_name}.tiff') as src:\n",
    "        show(src, cmap='terrain', ax=ax)\n",
    "    ax.scatter(xs, ys, c='r', s=5)\n",
    "    wshed_name_sp = wshed_name.replace('_', ' ')\n",
    "    title = f'{wshed_name_sp} LSHT plotted.'\n",
    "    plt.title(label = title)\n",
    "    sns.scatterplot(data=ksn_df, x='longitude', y='latitude', hue=np.abs(np.asarray(ksn_df['delta_ksn'])), ax=ax, palette='Greys', marker='s')\n",
    "    ax.legend(title= r'Knickpoint $\\Delta k_{sn}$)')\n",
    "    plt.savefig(f'{PATH}/{PROJ_TITLE}/kps_mapped/{wshed_name}_mapped.png')\n",
    "    plt.close()"
   ]
  },
  {
   "cell_type": "code",
   "execution_count": 14,
   "id": "fa0601b5",
   "metadata": {},
   "outputs": [
    {
     "name": "stdout",
     "output_type": "stream",
     "text": [
      "Directory exists\n",
      "Directory exists\n",
      "Directory exists\n",
      "Directory exists\n",
      "Directory exists\n",
      "Directory exists\n",
      "Directory exists\n",
      "Directory exists\n",
      "Directory exists\n",
      "Directory exists\n",
      "Directory exists\n",
      "Directory exists\n",
      "Directory exists\n",
      "Directory exists\n",
      "Directory exists\n",
      "Directory exists\n",
      "Directory exists\n",
      "Directory exists\n",
      "Directory exists\n",
      "Directory exists\n",
      "Directory exists\n",
      "Directory exists\n"
     ]
    }
   ],
   "source": [
    "for lsht, kp in zip(lsht_list, kp_list):\n",
    "    mapper(lsht, kp)"
   ]
  },
  {
   "cell_type": "code",
   "execution_count": null,
   "id": "c76b483a",
   "metadata": {},
   "outputs": [],
   "source": []
  }
 ],
 "metadata": {
  "kernelspec": {
   "display_name": ".venv",
   "language": "python",
   "name": "python3"
  },
  "language_info": {
   "codemirror_mode": {
    "name": "ipython",
    "version": 3
   },
   "file_extension": ".py",
   "mimetype": "text/x-python",
   "name": "python",
   "nbconvert_exporter": "python",
   "pygments_lexer": "ipython3",
   "version": "3.11.2"
  }
 },
 "nbformat": 4,
 "nbformat_minor": 5
}
