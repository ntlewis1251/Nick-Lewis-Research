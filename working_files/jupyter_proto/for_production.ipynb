{
 "cells": [
  {
   "cell_type": "markdown",
   "id": "542a5e74",
   "metadata": {},
   "source": [
    "# Knickpoint Analyses for Geoscience\n",
    "-Nick Lewis, Joanmarie Del Vecchio, Chuck Bailey."
   ]
  },
  {
   "cell_type": "markdown",
   "id": "e32e099c",
   "metadata": {},
   "source": [
    "Steps\n",
    "- Get Dem (take user bounds, res.)\n",
    "- Download geology shp files\n",
    "- Download WBD GDB\n",
    "- User can now select what they want to do.\n",
    "Export files include:\n",
    "\t- Folders for each watershed w name\n",
    "        - Relief map\n",
    "            - W/ LSHT highlighted\n",
    "\t    - Slope map (similar but not the same!)\n",
    "            - LSHT\n",
    "\t    - Knickpoints mapped (maybe adjust delta ksn?  To isolate bedrock reaches.)\n",
    "\t\t- Profile w trimodal morphology represented (maybe, refer to chuck suggestion)\n",
    "\t- CSVs of knickpoints\n",
    "\t\t- To be included:\n",
    "        - Wshed\n",
    "\t\t- elevation\n",
    "\t\t- Coords\n",
    "\t\t- Shapefile geology\n",
    "\t\t- Nearest roadcut geology that is also within some threshold of elevation from knickpoint.  Do buffer around knickpoint select closest to elevation.\n",
    "\t\t- Stream cover type (to allow narrowing to bedrock)\n",
    "\t\t- If BR, fracture data, if AP, bedding\n",
    "\t\t- If not in AP or BR, Send back a message being like sorry dawg.\n",
    "\t\t- Depth to mantle @ knickpoint.  Z score to average depth in region.\n",
    "\t\t- Slope"
   ]
  },
  {
   "cell_type": "markdown",
   "id": "253cd715",
   "metadata": {},
   "source": [
    "# Code begins here!\n",
    "\n",
    "#### Below is a 'code cell'.  This is a block of text that Jupyter and Python use to perform tasks.\n",
    "\n",
    "#### To run the following code cell and all code cells below, select the cell and press\n",
    "# <p style=\"color: aqua;\">Shift+Enter.</p>"
   ]
  },
  {
   "cell_type": "code",
   "execution_count": null,
   "id": "9159ae0c",
   "metadata": {},
   "outputs": [],
   "source": [
    "# This is called a comment.  Denoted by the '#' behind the text, it allows me to better explain code cells while still being a begign line of text.\n",
    "\n",
    "# First, we import the YML file.  This saves you the work of making your own python environment and installing a bunch of packages.\n",
    "#!conda env create -f env.yml"
   ]
  },
  {
   "cell_type": "code",
   "execution_count": 1,
   "id": "da2eb4c8",
   "metadata": {},
   "outputs": [],
   "source": [
    "# From google drive, let's get the peripheral files our code will use.\n",
    "#function here that imports shit"
   ]
  },
  {
   "cell_type": "code",
   "execution_count": 17,
   "id": "adbb3d77",
   "metadata": {},
   "outputs": [],
   "source": [
    "# Import packages to our notebook.\n",
    "# We must do this to use the functions contained inside the packages.\n",
    "# Some functions have 'as' in the import call.  This is for less typing, and nothing else.\n",
    "# Google any package name and 'docs' in order to find more detailed explanation of any one package.\n",
    "import numpy as np\n",
    "import pandas as pd\n",
    "import matplotlib.pyplot as plt\n",
    "%matplotlib inline\n",
    "import geopandas as gpd\n",
    "import xdem\n",
    "import os\n",
    "import rasterio as rio\n",
    "from rasterio.plot import show\n",
    "import glob\n",
    "from concurrent.futures import ThreadPoolExecutor\n",
    "import requests"
   ]
  },
  {
   "cell_type": "markdown",
   "id": "5a698607",
   "metadata": {},
   "source": [
    "#### Phew!  That was a lot of initial stuff, but no worries.  We can start *really* coding now."
   ]
  },
  {
   "cell_type": "markdown",
   "id": "1c1e038a",
   "metadata": {},
   "source": [
    "#### Below is a code cell containing our **Constant** Variables, which you may change as you see fit for your particular analyses.\n",
    "\n",
    "#### Below are \n",
    "- Integers\n",
    "- Lists (denoted by square brackets at the beginning and end, separated by commas [a, b, c, d])\n",
    "- Strings (contained within quotes 'Like this!')"
   ]
  },
  {
   "cell_type": "code",
   "execution_count": 15,
   "id": "d7d73e15",
   "metadata": {},
   "outputs": [],
   "source": [
    "# Every time you change something within the code cell, run it once more to update the variable.\n",
    "\n",
    "BOUNDS = [38.0, -78.5, 37.5, -80.0] # In decimal coordinate form.  Format: [N, E, S, W].  Select the smallest area possible in your analyses for maximum resoultion!  \n",
    "# For now, keep them in Virginia or West VA.\n",
    "\n",
    "API_KEY = '9086887f175d33aa72eda767f5b1e9cd' # Get your API key from opentopography.org.  Students get higher resolution data!\n",
    "\n",
    "DEM_DATASET = 'USGS30m' # Options are USGS30m, USGS10m, & USGS1m.  Be warned!  As resolution goes up, available area goes down.\n",
    "\n",
    "WBD_SCALE = 8 # Size threshold of watersheds your DEM will be split into.  From largest to smallest, the options are 4, 6, 8, & 10.  See below for examples of scale.\n",
    "\n",
    "PROJ_TITLE = 'n_lewis' # Create a succinct name with no spaces or leading digits to represent your project file for future exports."
   ]
  },
  {
   "cell_type": "markdown",
   "id": "0cb2a604",
   "metadata": {},
   "source": [
    "#### If you can't remember what a function does, call the help() function and pass the name of the function you are wondering about inside the colons."
   ]
  },
  {
   "cell_type": "code",
   "execution_count": null,
   "id": "bc4d1159",
   "metadata": {},
   "outputs": [
    {
     "name": "stdout",
     "output_type": "stream",
     "text": [
      "Directory \"/sciclone/home/ntlewis/Nick-Lewis-Research/working_files/jupyter_proto/n_lewis\" already exists.\n",
      "Querying API\n",
      "URL passed, now waiting for file to write.\n",
      "File Written.\n"
     ]
    }
   ],
   "source": [
    "# Downloader\n",
    "def downloader(bounds:list = BOUNDS, api_key:str = API_KEY, dem_dataset:str = DEM_DATASET, proj_title:str = PROJ_TITLE): # To call a function, we have to define it first.\n",
    "    \"\"\"\n",
    "    This function takes in the user-defined constants and creates a directory.  It then places a geotiff in the directory.\n",
    "\n",
    "    args: Bounds (list), api_key (str), dem_dataset (str), proj_title (str).\n",
    "\n",
    "    returns: None.\n",
    "    \"\"\"\n",
    "\n",
    "    # First, we make our directory for project files.\n",
    "    path = os.getcwd() # Gets your current working directory.\n",
    "    try:\n",
    "        os.mkdir(path = f'{path}/{proj_title}')\n",
    "        print(f'Directory \"{path}/{proj_title}\" created successfully.') # Tries to make the directory for project files.\n",
    "        proj_dir = f'{path}/{proj_title}'\n",
    "    except FileExistsError:\n",
    "        print(f'Directory \"{path}/{proj_title}\" already exists.') # If it doesnt work, it'll tell you!\n",
    "        proj_dir = f'{path}/{proj_title}'\n",
    "    except Exception as e:\n",
    "        print(f'An error occurred: {e}')\n",
    "\n",
    "    # Now to download our dem.\n",
    "    dic = dict(zip(['north', 'east', 'south', 'west'], bounds)) # Makes a dictionary to let us more easily acess our bounds.\n",
    "    url = f'https://portal.opentopography.org/API/usgsdem?datasetName={dem_dataset}&south={dic[\"south\"]}&north={dic[\"north\"]}&west={dic[\"west\"]}\\\n",
    "&east={dic[\"east\"]}&outputFormat=GTiff&API_Key={api_key}' # Creates our URL so we can download.\n",
    "    print('Querying API.')\n",
    "    response = requests.get(url) # Saves what the URL spit back at us\n",
    "    print('URL passed, now waiting for file to write.')\n",
    "    with open(f'{proj_dir}/gtiff', 'wb') as file:\n",
    "        file.write(response.content) # Writes the response to our project file\n",
    "    print('File Written.')\n",
    "\n",
    "downloader() # Here, we call the function."
   ]
  },
  {
   "cell_type": "code",
   "execution_count": null,
   "id": "598495af",
   "metadata": {},
   "outputs": [],
   "source": [
    "# Relief toolbox"
   ]
  },
  {
   "cell_type": "code",
   "execution_count": null,
   "id": "ae33f94b",
   "metadata": {},
   "outputs": [],
   "source": [
    "# KSN toolbox"
   ]
  },
  {
   "cell_type": "code",
   "execution_count": null,
   "id": "8bf67aa4",
   "metadata": {},
   "outputs": [],
   "source": [
    "# Mapper"
   ]
  },
  {
   "cell_type": "code",
   "execution_count": null,
   "id": "d33d133f",
   "metadata": {},
   "outputs": [],
   "source": [
    "# DF Maker"
   ]
  },
  {
   "cell_type": "code",
   "execution_count": null,
   "id": "698c012c",
   "metadata": {},
   "outputs": [],
   "source": [
    "# Exporter"
   ]
  }
 ],
 "metadata": {
  "kernelspec": {
   "display_name": "Python 3",
   "language": "python",
   "name": "python3"
  },
  "language_info": {
   "codemirror_mode": {
    "name": "ipython",
    "version": 3
   },
   "file_extension": ".py",
   "mimetype": "text/x-python",
   "name": "python",
   "nbconvert_exporter": "python",
   "pygments_lexer": "ipython3",
   "version": "3.8.12"
  }
 },
 "nbformat": 4,
 "nbformat_minor": 5
}
