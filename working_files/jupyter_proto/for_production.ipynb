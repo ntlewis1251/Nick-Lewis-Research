{
 "cells": [
  {
   "cell_type": "markdown",
   "id": "542a5e74",
   "metadata": {},
   "source": [
    "# Knickpoint Analyses for Geoscience\n",
    "-Nick Lewis, Joanmarie Del Vecchio, Chuck Bailey."
   ]
  },
  {
   "cell_type": "markdown",
   "id": "e32e099c",
   "metadata": {},
   "source": [
    "Steps\n",
    "- Get Dem (take user bounds, res.)\n",
    "- Download geology shp files\n",
    "- Download WBD GDB\n",
    "- User can now select what they want to do.\n",
    "Export files include:\n",
    "\t- Folders for each watershed w name\n",
    "        - Relief map\n",
    "            - W/ LSHT highlighted\n",
    "\t    - Slope map (similar but not the same!)\n",
    "            - LSHT\n",
    "\t    - Knickpoints mapped (maybe adjust delta ksn?  To isolate bedrock reaches.)\n",
    "\t\t- Profile w trimodal morphology represented (maybe, refer to chuck suggestion)\n",
    "\t- CSVs of knickpoints\n",
    "\t\t- To be included:\n",
    "        - Wshed\n",
    "\t\t- elevation\n",
    "\t\t- Coords\n",
    "\t\t- Shapefile geology\n",
    "\t\t- Nearest roadcut geology that is also within some threshold of elevation from knickpoint.  Do buffer around knickpoint select closest to elevation.\n",
    "\t\t- Stream cover type (to allow narrowing to bedrock)\n",
    "\t\t- If BR, fracture data, if AP, bedding\n",
    "\t\t- If not in AP or BR, Send back a message being like sorry dawg.\n",
    "\t\t- Depth to mantle @ knickpoint.  Z score to average depth in region.\n",
    "\t\t- Slope"
   ]
  },
  {
   "cell_type": "markdown",
   "id": "253cd715",
   "metadata": {},
   "source": [
    "# Code begins here!\n",
    "\n",
    "#### Below is a 'code cell'.  This is a block of text that Jupyter and Python use to perform tasks.\n",
    "\n",
    "#### To run the following code cell and all code cells below, select the cell and press\n",
    "# <p style=\"color: aqua;\">Shift+Enter.</p>"
   ]
  },
  {
   "cell_type": "code",
   "execution_count": 1,
   "id": "9159ae0c",
   "metadata": {},
   "outputs": [],
   "source": [
    "# This is called a comment.  Denoted by the '#' behind the text, it allows me to better explain code cells while still being a begign line of text.\n",
    "\n",
    "# First, we import the YML file.  This saves you the work of making your own python environment and installing a bunch of packages.\n",
    "#!conda env create -f env.yml"
   ]
  },
  {
   "cell_type": "code",
   "execution_count": 2,
   "id": "da2eb4c8",
   "metadata": {},
   "outputs": [],
   "source": [
    "# From google drive, let's get the peripheral files our code will use.\n",
    "#function here that imports shit"
   ]
  },
  {
   "cell_type": "code",
   "execution_count": 1,
   "id": "adbb3d77",
   "metadata": {},
   "outputs": [],
   "source": [
    "# Import packages to our notebook.\n",
    "# We must do this to use the functions contained inside the packages.\n",
    "# Some functions have 'as' in the import call.  This is for less typing, and nothing else.\n",
    "# Google any package name and 'docs' in order to find more detailed explanation of any one package.\n",
    "import numpy as np\n",
    "import pandas as pd\n",
    "import matplotlib.pyplot as plt\n",
    "%matplotlib inline\n",
    "import geopandas as gpd\n",
    "import xdem\n",
    "import os\n",
    "import rasterio as rio\n",
    "from rasterio.plot import show\n",
    "import glob\n",
    "from concurrent.futures import ThreadPoolExecutor\n",
    "import requests\n",
    "import shapely"
   ]
  },
  {
   "cell_type": "markdown",
   "id": "5a698607",
   "metadata": {},
   "source": [
    "#### Phew!  That was a lot of initial stuff, but no worries.  We can start *really* coding now."
   ]
  },
  {
   "cell_type": "markdown",
   "id": "1c1e038a",
   "metadata": {},
   "source": [
    "#### Below is a code cell containing our **Constant** Variables, which you may change as you see fit for your particular analyses.\n",
    "\n",
    "#### Below are \n",
    "- Integers\n",
    "- Lists (denoted by square brackets at the beginning and end, separated by commas [a, b, c, d])\n",
    "- Strings (contained within quotes 'Like this!')"
   ]
  },
  {
   "cell_type": "code",
   "execution_count": 16,
   "id": "d7d73e15",
   "metadata": {},
   "outputs": [],
   "source": [
    "# Every time you change something within the code cell, run it once more to update the variable.\n",
    "\n",
    "BOUNDS = [39.0, -80.0, 37.5, -81.5] # In decimal coordinate form.  Format: [N, E, S, W].  Select the smallest area possible in your analyses for maximum resoultion!  \n",
    "# For now, keep them in Virginia or West VA.\n",
    "\n",
    "API_KEY = '9086887f175d33aa72eda767f5b1e9cd' # Get your API key from opentopography.org.  Students get higher resolution data!\n",
    "\n",
    "DEM_DATASET = 'USGS30m' # Options are USGS30m, USGS10m, & USGS1m.  Be warned!  As resolution goes up, available area goes down.\n",
    "\n",
    "PROJ_TITLE = 'n_lewis' # Create a succinct name with no spaces or leading digits to represent your project file for future exports.\n",
    "\n",
    "PATH = os.getcwd()"
   ]
  },
  {
   "cell_type": "markdown",
   "id": "0cb2a604",
   "metadata": {},
   "source": [
    "#### If you can't remember what a function does, call the help() function and pass the name of the function you are wondering about inside the colons."
   ]
  },
  {
   "cell_type": "code",
   "execution_count": 17,
   "id": "bc4d1159",
   "metadata": {},
   "outputs": [
    {
     "name": "stdout",
     "output_type": "stream",
     "text": [
      "Directory \"/sciclone/home/ntlewis/Nick-Lewis-Research/working_files/jupyter_proto/n_lewis\" already exists.\n",
      "Querying API...\n",
      "URL passed, now waiting for file to write.\n",
      "File Written.\n"
     ]
    }
   ],
   "source": [
    "# Downloader\n",
    "def downloader(bounds:list = BOUNDS, api_key:str = API_KEY, dem_dataset:str = DEM_DATASET, proj_title:str = PROJ_TITLE, path = PATH): # To call a function, we have to define it first.\n",
    "    \"\"\"\n",
    "    This function takes in the user-defined constants and creates a directory.  It then places a geotiff in the directory.\n",
    "\n",
    "    args: Bounds (list), api_key (str), dem_dataset (str), proj_title (str).\n",
    "\n",
    "    returns: None.\n",
    "    \"\"\"\n",
    "\n",
    "    # First, we make our directory for project files.\n",
    "    try:\n",
    "        os.mkdir(path = f'{path}/{proj_title}')\n",
    "        print(f'Directory \"{path}/{proj_title}\" created successfully.') # Tries to make the directory for project files.\n",
    "        proj_dir = f'{path}/{proj_title}'\n",
    "    except FileExistsError:\n",
    "        print(f'Directory \"{path}/{proj_title}\" already exists.') # If it doesnt work, it'll tell you!\n",
    "        proj_dir = f'{path}/{proj_title}'\n",
    "    except Exception as e:\n",
    "        print(f'An error occurred: {e}')\n",
    "\n",
    "    # Now to download our dem.\n",
    "    dic = dict(zip(['north', 'east', 'south', 'west'], bounds)) # Makes a dictionary to let us more easily acess our bounds.\n",
    "    url = f'https://portal.opentopography.org/API/usgsdem?datasetName={dem_dataset}&south={dic[\"south\"]}&north={dic[\"north\"]}&west={dic[\"west\"]}\\\n",
    "&east={dic[\"east\"]}&outputFormat=GTiff&API_Key={api_key}' # Creates our URL so we can download.\n",
    "    print('Querying API...')\n",
    "    response = requests.get(url) # Saves what the URL spit back at us\n",
    "    print('URL passed, now waiting for file to write.')\n",
    "    with open(f'{proj_dir}/gtiff.tiff', 'wb') as file:\n",
    "        file.write(response.content) # Writes the response to our project file\n",
    "    print('File Written.')\n",
    "\n",
    "downloader() # Here, we call the function."
   ]
  },
  {
   "cell_type": "markdown",
   "id": "8bb7749e",
   "metadata": {},
   "source": [
    "#### Next we will clip out each watershed in your selected area."
   ]
  },
  {
   "cell_type": "code",
   "execution_count": 28,
   "id": "cc830b48",
   "metadata": {},
   "outputs": [],
   "source": [
    "def wshed_clipper(proj_title = PROJ_TITLE, bounds = BOUNDS, path = PATH):\n",
    "    # PLACEHOLDER - Line to download wsheds csv\n",
    "    # df = pd.read_csv(f'{os.getcwd}/{proj_title}/wsheds.csv') # We read in our wshed data\n",
    "    df = pd.read_csv('/sciclone/home/ntlewis/Nick-Lewis-Research/working_files/data/wbd_scale/WBDHU10.csv') \n",
    "    gdf = gpd.GeoDataFrame(data=df, crs=rio.CRS.from_epsg(4269), geometry=[shapely.wkt.loads(x) for x in df['geometry']]) # We turn it into a geodataframe to do geospatial stuff to.\n",
    "    clipped = gpd.GeoDataFrame(gdf.cx[bounds[3]:bounds[1], bounds[2]:bounds[0]]) # Clip it to the user's bounds.\n",
    "\n",
    "\n",
    "    # Now that we have a GDF (GeoDataFrame) with the user's chosen watersheds and the larger dem, lets export DEMs of each watershed.\n",
    "    os.mkdir(f'{path}/{proj_title}/wshed_dems')\n",
    "    with rio.open(f'{path}/{proj_title}/gtiff.tiff') as src: # Loads in our larger df.\n",
    "        for idx, row in clipped.iterrows(): # Iterate through the dataframe (for each row, do something.)\n",
    "            name = row['name'].replace(' ', '_')\n",
    "            geom = row['geometry'] # Same as above.\n",
    "            out_image, out_transform = rio.mask.mask(src, geom.geoms, crop=True)\n",
    "            out_meta = src.meta.copy()\n",
    "            out_meta.update({\n",
    "                \"driver\": \"GTiff\",\n",
    "                \"height\": out_image.shape[1],\n",
    "                \"width\": out_image.shape[2],\n",
    "                \"transform\": out_transform\n",
    "                })\n",
    "            out_path = f'{path}/{proj_title}/wshed_dems/{name}.tiff'\n",
    "            with rio.open(out_path, \"w\", **out_meta) as file:\n",
    "                file.write(out_image)\n",
    "            \n",
    "wshed_clipper()"
   ]
  },
  {
   "cell_type": "code",
   "execution_count": null,
   "id": "7689d1df",
   "metadata": {},
   "outputs": [
    {
     "data": {
      "text/plain": [
       "['/sciclone/home/ntlewis/Nick-Lewis-Research/working_files/jupyter_proto/n_lewis/wshed_dems/Piney_Creek.tiff',\n",
       " '/sciclone/home/ntlewis/Nick-Lewis-Research/working_files/jupyter_proto/n_lewis/wshed_dems/Sand_Fork.tiff',\n",
       " '/sciclone/home/ntlewis/Nick-Lewis-Research/working_files/jupyter_proto/n_lewis/wshed_dems/Leading_Creek.tiff',\n",
       " '/sciclone/home/ntlewis/Nick-Lewis-Research/working_files/jupyter_proto/n_lewis/wshed_dems/Upper_Little_Kanawha_River.tiff',\n",
       " '/sciclone/home/ntlewis/Nick-Lewis-Research/working_files/jupyter_proto/n_lewis/wshed_dems/Right_Fork_Steer_Creek-Steer_Creek.tiff',\n",
       " '/sciclone/home/ntlewis/Nick-Lewis-Research/working_files/jupyter_proto/n_lewis/wshed_dems/West_Fork_Little_Kanawha_River.tiff',\n",
       " '/sciclone/home/ntlewis/Nick-Lewis-Research/working_files/jupyter_proto/n_lewis/wshed_dems/Right_Fork_Spring_Creek-Spring_Creek.tiff',\n",
       " '/sciclone/home/ntlewis/Nick-Lewis-Research/working_files/jupyter_proto/n_lewis/wshed_dems/Left_Fork_Reedy_Creek-Reedy_Creek.tiff',\n",
       " '/sciclone/home/ntlewis/Nick-Lewis-Research/working_files/jupyter_proto/n_lewis/wshed_dems/Middle_Little_Kanawha_River.tiff',\n",
       " '/sciclone/home/ntlewis/Nick-Lewis-Research/working_files/jupyter_proto/n_lewis/wshed_dems/Left_Fork_Sandy_Creek-Sandy_Creek.tiff',\n",
       " '/sciclone/home/ntlewis/Nick-Lewis-Research/working_files/jupyter_proto/n_lewis/wshed_dems/Mill_Creek.tiff',\n",
       " '/sciclone/home/ntlewis/Nick-Lewis-Research/working_files/jupyter_proto/n_lewis/wshed_dems/Upper_West_Fork_River.tiff',\n",
       " '/sciclone/home/ntlewis/Nick-Lewis-Research/working_files/jupyter_proto/n_lewis/wshed_dems/Knapp_Creek.tiff',\n",
       " '/sciclone/home/ntlewis/Nick-Lewis-Research/working_files/jupyter_proto/n_lewis/wshed_dems/Laurel_Creek-Cherry_River.tiff',\n",
       " '/sciclone/home/ntlewis/Nick-Lewis-Research/working_files/jupyter_proto/n_lewis/wshed_dems/Hominy_Creek.tiff',\n",
       " '/sciclone/home/ntlewis/Nick-Lewis-Research/working_files/jupyter_proto/n_lewis/wshed_dems/Laurel_Creek.tiff',\n",
       " '/sciclone/home/ntlewis/Nick-Lewis-Research/working_files/jupyter_proto/n_lewis/wshed_dems/Williams_River.tiff',\n",
       " '/sciclone/home/ntlewis/Nick-Lewis-Research/working_files/jupyter_proto/n_lewis/wshed_dems/Headwaters_Gauley_River.tiff',\n",
       " '/sciclone/home/ntlewis/Nick-Lewis-Research/working_files/jupyter_proto/n_lewis/wshed_dems/Middle_Jackson_River.tiff',\n",
       " '/sciclone/home/ntlewis/Nick-Lewis-Research/working_files/jupyter_proto/n_lewis/wshed_dems/Bluestone_River.tiff',\n",
       " '/sciclone/home/ntlewis/Nick-Lewis-Research/working_files/jupyter_proto/n_lewis/wshed_dems/Bluestone_Lake-New_River.tiff',\n",
       " '/sciclone/home/ntlewis/Nick-Lewis-Research/working_files/jupyter_proto/n_lewis/wshed_dems/Second_Creek.tiff',\n",
       " '/sciclone/home/ntlewis/Nick-Lewis-Research/working_files/jupyter_proto/n_lewis/wshed_dems/Johns_Creek.tiff',\n",
       " '/sciclone/home/ntlewis/Nick-Lewis-Research/working_files/jupyter_proto/n_lewis/wshed_dems/Cedar_Creek.tiff',\n",
       " '/sciclone/home/ntlewis/Nick-Lewis-Research/working_files/jupyter_proto/n_lewis/wshed_dems/Buckhannon_River.tiff',\n",
       " '/sciclone/home/ntlewis/Nick-Lewis-Research/working_files/jupyter_proto/n_lewis/wshed_dems/Holly_River.tiff',\n",
       " '/sciclone/home/ntlewis/Nick-Lewis-Research/working_files/jupyter_proto/n_lewis/wshed_dems/Buffalo_Creek.tiff',\n",
       " '/sciclone/home/ntlewis/Nick-Lewis-Research/working_files/jupyter_proto/n_lewis/wshed_dems/Big_Sandy_Creek.tiff',\n",
       " '/sciclone/home/ntlewis/Nick-Lewis-Research/working_files/jupyter_proto/n_lewis/wshed_dems/Headwaters_Pocatalico_River.tiff',\n",
       " '/sciclone/home/ntlewis/Nick-Lewis-Research/working_files/jupyter_proto/n_lewis/wshed_dems/Marsh_Fork.tiff',\n",
       " '/sciclone/home/ntlewis/Nick-Lewis-Research/working_files/jupyter_proto/n_lewis/wshed_dems/Shavers_Fork.tiff',\n",
       " '/sciclone/home/ntlewis/Nick-Lewis-Research/working_files/jupyter_proto/n_lewis/wshed_dems/Tommy_Creek-Guyandotte_River.tiff',\n",
       " '/sciclone/home/ntlewis/Nick-Lewis-Research/working_files/jupyter_proto/n_lewis/wshed_dems/Pinnacle_Creek-Guyandotte_River.tiff',\n",
       " '/sciclone/home/ntlewis/Nick-Lewis-Research/working_files/jupyter_proto/n_lewis/wshed_dems/Cabin_Creek.tiff',\n",
       " '/sciclone/home/ntlewis/Nick-Lewis-Research/working_files/jupyter_proto/n_lewis/wshed_dems/Campbells_Creek-Kanawha_River.tiff',\n",
       " '/sciclone/home/ntlewis/Nick-Lewis-Research/working_files/jupyter_proto/n_lewis/wshed_dems/Upper_Elk_River.tiff',\n",
       " '/sciclone/home/ntlewis/Nick-Lewis-Research/working_files/jupyter_proto/n_lewis/wshed_dems/Birch_River.tiff',\n",
       " '/sciclone/home/ntlewis/Nick-Lewis-Research/working_files/jupyter_proto/n_lewis/wshed_dems/Middle_Elk_River.tiff',\n",
       " '/sciclone/home/ntlewis/Nick-Lewis-Research/working_files/jupyter_proto/n_lewis/wshed_dems/Blue_Creek.tiff',\n",
       " '/sciclone/home/ntlewis/Nick-Lewis-Research/working_files/jupyter_proto/n_lewis/wshed_dems/Lower_Elk_River.tiff',\n",
       " '/sciclone/home/ntlewis/Nick-Lewis-Research/working_files/jupyter_proto/n_lewis/wshed_dems/Clear_Fork.tiff',\n",
       " '/sciclone/home/ntlewis/Nick-Lewis-Research/working_files/jupyter_proto/n_lewis/wshed_dems/Coal_River.tiff',\n",
       " '/sciclone/home/ntlewis/Nick-Lewis-Research/working_files/jupyter_proto/n_lewis/wshed_dems/Catawba_Creek.tiff',\n",
       " '/sciclone/home/ntlewis/Nick-Lewis-Research/working_files/jupyter_proto/n_lewis/wshed_dems/Lower_Jackson_River.tiff',\n",
       " '/sciclone/home/ntlewis/Nick-Lewis-Research/working_files/jupyter_proto/n_lewis/wshed_dems/Upper_Craig_Creek.tiff',\n",
       " '/sciclone/home/ntlewis/Nick-Lewis-Research/working_files/jupyter_proto/n_lewis/wshed_dems/Lower_Craig_Creek.tiff',\n",
       " '/sciclone/home/ntlewis/Nick-Lewis-Research/working_files/jupyter_proto/n_lewis/wshed_dems/Dunlap_Creek.tiff',\n",
       " '/sciclone/home/ntlewis/Nick-Lewis-Research/working_files/jupyter_proto/n_lewis/wshed_dems/Potts_Creek.tiff',\n",
       " '/sciclone/home/ntlewis/Nick-Lewis-Research/working_files/jupyter_proto/n_lewis/wshed_dems/Indian_Creek.tiff',\n",
       " '/sciclone/home/ntlewis/Nick-Lewis-Research/working_files/jupyter_proto/n_lewis/wshed_dems/Spring_Creek.tiff',\n",
       " '/sciclone/home/ntlewis/Nick-Lewis-Research/working_files/jupyter_proto/n_lewis/wshed_dems/Sitlington_Creek-Greenbrier_River.tiff',\n",
       " '/sciclone/home/ntlewis/Nick-Lewis-Research/working_files/jupyter_proto/n_lewis/wshed_dems/Howard_Creek.tiff',\n",
       " '/sciclone/home/ntlewis/Nick-Lewis-Research/working_files/jupyter_proto/n_lewis/wshed_dems/Sinking_Creek-Muddy_Creek.tiff',\n",
       " '/sciclone/home/ntlewis/Nick-Lewis-Research/working_files/jupyter_proto/n_lewis/wshed_dems/Wolf_Creek-Greenbrier_River.tiff',\n",
       " '/sciclone/home/ntlewis/Nick-Lewis-Research/working_files/jupyter_proto/n_lewis/wshed_dems/Glade_Creek-New_River.tiff',\n",
       " '/sciclone/home/ntlewis/Nick-Lewis-Research/working_files/jupyter_proto/n_lewis/wshed_dems/Manns_Creek-New_River.tiff',\n",
       " '/sciclone/home/ntlewis/Nick-Lewis-Research/working_files/jupyter_proto/n_lewis/wshed_dems/Cranberry_River.tiff',\n",
       " '/sciclone/home/ntlewis/Nick-Lewis-Research/working_files/jupyter_proto/n_lewis/wshed_dems/Meadow_River.tiff',\n",
       " '/sciclone/home/ntlewis/Nick-Lewis-Research/working_files/jupyter_proto/n_lewis/wshed_dems/Twentymile_Creek.tiff',\n",
       " '/sciclone/home/ntlewis/Nick-Lewis-Research/working_files/jupyter_proto/n_lewis/wshed_dems/Loop_Creek-Kanawha_River.tiff',\n",
       " '/sciclone/home/ntlewis/Nick-Lewis-Research/working_files/jupyter_proto/n_lewis/wshed_dems/Outlet_Gauley_River.tiff',\n",
       " '/sciclone/home/ntlewis/Nick-Lewis-Research/working_files/jupyter_proto/n_lewis/wshed_dems/Paint_Creek.tiff',\n",
       " '/sciclone/home/ntlewis/Nick-Lewis-Research/working_files/jupyter_proto/n_lewis/wshed_dems/Upper_Tygart_Valley_River.tiff',\n",
       " '/sciclone/home/ntlewis/Nick-Lewis-Research/working_files/jupyter_proto/n_lewis/wshed_dems/Middle_Fork_River.tiff',\n",
       " '/sciclone/home/ntlewis/Nick-Lewis-Research/working_files/jupyter_proto/n_lewis/wshed_dems/Middle_Tygart_Valley_River.tiff',\n",
       " '/sciclone/home/ntlewis/Nick-Lewis-Research/working_files/jupyter_proto/n_lewis/wshed_dems/Anthony_Creek.tiff']"
      ]
     },
     "execution_count": 29,
     "metadata": {},
     "output_type": "execute_result"
    }
   ],
   "source": [
    "tiffs = glob.glob('/sciclone/home/ntlewis/Nick-Lewis-Research/working_files/jupyter_proto/n_lewis/wshed_dems/*.tiff')\n"
   ]
  },
  {
   "cell_type": "code",
   "execution_count": null,
   "id": "cf0bb9bc",
   "metadata": {},
   "outputs": [
    {
     "name": "stdout",
     "output_type": "stream",
     "text": [
      "       Unnamed: 0                                   tnmid  \\\n",
      "11             11  {DAD729F5-59A0-47CF-8B66-2C36B40BF081}   \n",
      "16             16  {02DAE5A1-A054-47DA-8E8A-48FD2A4E9D89}   \n",
      "17             17  {55510B78-D60A-4979-A297-2A45C6C2965A}   \n",
      "30             30  {A45B1F2D-A944-43EB-9A2D-AB87E0EACB43}   \n",
      "36             36  {396C3CBE-56E7-4C07-B45A-AD01036F538C}   \n",
      "...           ...                                     ...   \n",
      "18361       18361  {77E99835-57FB-43C3-88C2-79974D9C8D10}   \n",
      "18372       18372  {78A6E19B-E15C-4670-80CC-0C13D4787820}   \n",
      "18373       18373  {14DC8E69-7012-46E9-9082-D114960D5BA0}   \n",
      "18391       18391  {9B76B129-4FE9-4BE6-B1EA-D6BF1B151116}   \n",
      "18528       18528  {2CCE4CB1-B823-45DF-8A59-35066103ED97}   \n",
      "\n",
      "                                 metasourceid  \\\n",
      "11     {511D2AC8-11BA-45FC-AB98-F69D693D4C44}   \n",
      "16     {511D2AC8-11BA-45FC-AB98-F69D693D4C44}   \n",
      "17     {511D2AC8-11BA-45FC-AB98-F69D693D4C44}   \n",
      "30     {511D2AC8-11BA-45FC-AB98-F69D693D4C44}   \n",
      "36     {511D2AC8-11BA-45FC-AB98-F69D693D4C44}   \n",
      "...                                       ...   \n",
      "18361  {511D2AC8-11BA-45FC-AB98-F69D693D4C44}   \n",
      "18372  {511D2AC8-11BA-45FC-AB98-F69D693D4C44}   \n",
      "18373  {511D2AC8-11BA-45FC-AB98-F69D693D4C44}   \n",
      "18391  {511D2AC8-11BA-45FC-AB98-F69D693D4C44}   \n",
      "18528  {511D2AC8-11BA-45FC-AB98-F69D693D4C44}   \n",
      "\n",
      "                         sourcedatadesc  \\\n",
      "11     Watershed Boundary Dataset (WBD)   \n",
      "16     Watershed Boundary Dataset (WBD)   \n",
      "17     Watershed Boundary Dataset (WBD)   \n",
      "30     Watershed Boundary Dataset (WBD)   \n",
      "36     Watershed Boundary Dataset (WBD)   \n",
      "...                                 ...   \n",
      "18361  Watershed Boundary Dataset (WBD)   \n",
      "18372  Watershed Boundary Dataset (WBD)   \n",
      "18373  Watershed Boundary Dataset (WBD)   \n",
      "18391  Watershed Boundary Dataset (WBD)   \n",
      "18528  Watershed Boundary Dataset (WBD)   \n",
      "\n",
      "                                        sourceoriginator sourcefeatureid  \\\n",
      "11     Natural Resources and Conservation Service and...             NaN   \n",
      "16     Natural Resources and Conservation Service and...             NaN   \n",
      "17     Natural Resources and Conservation Service and...             NaN   \n",
      "30     Natural Resources and Conservation Service and...             NaN   \n",
      "36     Natural Resources and Conservation Service and...             NaN   \n",
      "...                                                  ...             ...   \n",
      "18361  Natural Resources and Conservation Service and...             NaN   \n",
      "18372  Natural Resources and Conservation Service and...             NaN   \n",
      "18373  Natural Resources and Conservation Service and...             NaN   \n",
      "18391  Natural Resources and Conservation Service and...             NaN   \n",
      "18528  Natural Resources and Conservation Service and...             NaN   \n",
      "\n",
      "                        loaddate referencegnis_ids  areaacres  areasqkm  \\\n",
      "11     2024-08-15 13:01:21+00:00           1066248   83289.00    337.06   \n",
      "16     2024-08-15 13:01:21+00:00   1471306,1487411  142682.26    577.42   \n",
      "17     2024-08-15 13:01:21+00:00   1483977,1487411  139409.74    564.17   \n",
      "30     2024-08-15 13:01:21+00:00     614846,616369  248338.29   1004.99   \n",
      "36     2024-08-15 13:01:21+00:00           1538505  109917.59    444.82   \n",
      "...                          ...               ...        ...       ...   \n",
      "18361  2024-08-15 13:01:21+00:00            871826   74554.11    301.71   \n",
      "18372  2024-08-15 13:01:21+00:00   1217555,1217616   69635.29    281.80   \n",
      "18373  2024-08-15 13:01:21+00:00   1219862,1217616   86667.29    350.73   \n",
      "18391  2024-08-15 13:01:21+00:00     209169,207080  104577.60    423.21   \n",
      "18528  2024-08-15 13:01:21+00:00    405379,1623080   67507.72    273.19   \n",
      "\n",
      "      states      huc10                                          name hutype  \\\n",
      "11        OH  410001106                         Lower Tymochtee Creek      S   \n",
      "16        VA  207000508       Naked Creek-South Fork Shenandoah River      S   \n",
      "17        VA  207000509   Hawksbill Creek-South Fork Shenandoah River      S   \n",
      "30        MA  109000203               Mattapoisett River-Buzzards Bay      S   \n",
      "36        WV  509010202                    East Fork Twelvepole Creek      S   \n",
      "...      ...        ...                                           ...    ...   \n",
      "18361     NH  107000101                East Branch Pemigewasset River      S   \n",
      "18372     RI  109000602               Block Island-Block Island Sound      I   \n",
      "18373     RI  109000601  Point Judith Pond-Frontal Block Island Sound      F   \n",
      "18391     CT  110000303     Mystic River-Frontal Fishers Island Sound      F   \n",
      "18528  IL,IN  404000106           Calumet River-Frontal Lake Michigan      F   \n",
      "\n",
      "      humod                                globalid  shape_Length  shape_Area  \\\n",
      "11      NaN  {20144DA7-E29C-11E2-8094-0021280458E6}      1.219029    0.036010   \n",
      "16      NaN  {1AAF775D-E29C-11E2-8094-0021280458E6}      1.347878    0.059534   \n",
      "17      NaN  {1AAF8E57-E29C-11E2-8094-0021280458E6}      1.222518    0.058341   \n",
      "30           {CE58542E-4A80-42CA-B183-8B15F1DE311E}      1.861823    0.108722   \n",
      "36       UA  {1A300393-E29C-11E2-8094-0021280458E6}      1.534755    0.045665   \n",
      "...     ...                                     ...           ...         ...   \n",
      "18361    NM  {48656A29-4756-44AD-BB3E-2EC5FDD624EA}      1.147856    0.033916   \n",
      "18372   NaN  {0F06ED01-C9C1-4790-AEDB-806AAC220EAE}      0.636094    0.030245   \n",
      "18373   NaN  {E8CA5883-E4D2-4A37-A61A-BB691109327F}      1.354550    0.037742   \n",
      "18391   NaN  {C86916E8-95F2-4AAE-8523-298FB868DF1A}      2.753206    0.045553   \n",
      "18528    UA  {3AC071E4-A81C-4490-A876-92C1144F7323}      2.645891    0.029525   \n",
      "\n",
      "                                                geometry  \n",
      "11     MULTIPOLYGON (((-83.36291 41.02816, -83.36282 ...  \n",
      "16     MULTIPOLYGON (((-78.47746 38.51588, -78.47711 ...  \n",
      "17     MULTIPOLYGON (((-78.48013 38.74204, -78.47942 ...  \n",
      "30     MULTIPOLYGON (((-70.72244 41.94561, -70.72204 ...  \n",
      "36     MULTIPOLYGON (((-82.43485 38.21415, -82.43466 ...  \n",
      "...                                                  ...  \n",
      "18361  MULTIPOLYGON (((-71.50254 44.20038, -71.50243 ...  \n",
      "18372  MULTIPOLYGON (((-71.58990 41.09600, -71.59052 ...  \n",
      "18373  MULTIPOLYGON (((-71.48807 41.51899, -71.48784 ...  \n",
      "18391  MULTIPOLYGON (((-71.93471 41.48251, -71.93462 ...  \n",
      "18528  MULTIPOLYGON (((-87.52897 41.73386, -87.52888 ...  \n",
      "\n",
      "[3549 rows x 19 columns]\n"
     ]
    }
   ],
   "source": [
    "# Watershed divider\n",
    "df = pd.read_csv('/sciclone/home/ntlewis/Nick-Lewis-Research/working_files/data/wbd_scale/WBDHU10.csv')\n",
    "gdf = gpd.GeoDataFrame(data=df, crs=rio.CRS.from_epsg(4269), geometry=[shapely.wkt.loads(x) for x in df['geometry']])"
   ]
  },
  {
   "cell_type": "code",
   "execution_count": 15,
   "id": "53750d98",
   "metadata": {},
   "outputs": [
    {
     "data": {
      "text/plain": [
       "<Axes: >"
      ]
     },
     "execution_count": 15,
     "metadata": {},
     "output_type": "execute_result"
    },
    {
     "data": {
      "image/png": "[encoded data removed]",
      "text/plain": [
       "<Figure size 640x480 with 1 Axes>"
      ]
     },
     "metadata": {},
     "output_type": "display_data"
    }
   ],
   "source": [
    "clipped = gdf.cx[BOUNDS[3]:BOUNDS[1], BOUNDS[2]:BOUNDS[0]]\n",
    "clipped.plot()"
   ]
  },
  {
   "cell_type": "code",
   "execution_count": 1,
   "id": "598495af",
   "metadata": {},
   "outputs": [],
   "source": [
    "# Relief & LSHT toolbox\n"
   ]
  },
  {
   "cell_type": "code",
   "execution_count": null,
   "id": "ae33f94b",
   "metadata": {},
   "outputs": [],
   "source": [
    "# KSN toolbox"
   ]
  },
  {
   "cell_type": "code",
   "execution_count": null,
   "id": "8bf67aa4",
   "metadata": {},
   "outputs": [],
   "source": [
    "# Mapper"
   ]
  },
  {
   "cell_type": "code",
   "execution_count": null,
   "id": "d33d133f",
   "metadata": {},
   "outputs": [],
   "source": [
    "# DF Maker"
   ]
  },
  {
   "cell_type": "code",
   "execution_count": null,
   "id": "698c012c",
   "metadata": {},
   "outputs": [],
   "source": [
    "# Exporter"
   ]
  },
  {
   "cell_type": "code",
   "execution_count": 14,
   "id": "b5b71a2d",
   "metadata": {},
   "outputs": [
    {
     "name": "stderr",
     "output_type": "stream",
     "text": [
      "Performing tasks: 100%|██████████| 100/100 [00:05<00:00, 19.91it/s]\n"
     ]
    }
   ],
   "source": [
    "import time\n",
    "from tqdm import tqdm\n",
    "\n",
    "total_tasks = 100\n",
    "with tqdm(total=total_tasks, desc=\"Performing tasks\") as pbar:\n",
    "    for i in range(total_tasks):\n",
    "        # Simulate some work\n",
    "        time.sleep(0.05)\n",
    "        pbar.update(1) # Increment the progress bar by 1"
   ]
  },
  {
   "cell_type": "code",
   "execution_count": null,
   "id": "5274791d",
   "metadata": {},
   "outputs": [],
   "source": [
    "# Kept to show how wshed dataset was narrowed.  U10 scale and only regions in the appalachians.\n",
    "#apps = gdf.cx[-87:-58, 32:49]\n",
    "#apps.to_csv('/sciclone/home/ntlewis/Nick-Lewis-Research/working_files/data/wbd_scale/WBDHU10.csv')"
   ]
  }
 ],
 "metadata": {
  "kernelspec": {
   "display_name": "Python 3",
   "language": "python",
   "name": "python3"
  },
  "language_info": {
   "codemirror_mode": {
    "name": "ipython",
    "version": 3
   },
   "file_extension": ".py",
   "mimetype": "text/x-python",
   "name": "python",
   "nbconvert_exporter": "python",
   "pygments_lexer": "ipython3",
   "version": "3.8.12"
  }
 },
 "nbformat": 4,
 "nbformat_minor": 5
}
