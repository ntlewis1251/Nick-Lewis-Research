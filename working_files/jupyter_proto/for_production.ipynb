{
 "cells": [
  {
   "cell_type": "markdown",
   "id": "542a5e74",
   "metadata": {},
   "source": [
    "# Knickpoint Analyses for Geoscience\n",
    "-Nick Lewis, Joanmarie Del Vecchio, Chuck Bailey."
   ]
  },
  {
   "cell_type": "markdown",
   "id": "e32e099c",
   "metadata": {},
   "source": [
    "Steps\n",
    "- Get Dem (take user bounds, res.)\n",
    "- Download geology shp files\n",
    "- Download WBD GDB\n",
    "- User can now select what they want to do.\n",
    "Export files include:\n",
    "\t- Folders for each watershed w name\n",
    "        - Relief map\n",
    "            - W/ LSHT highlighted\n",
    "\t    - Slope map (similar but not the same!)\n",
    "            - LSHT\n",
    "\t    - Knickpoints mapped (maybe adjust delta ksn?  To isolate bedrock reaches.)\n",
    "\t\t- Profile w trimodal morphology represented (maybe, refer to chuck suggestion)\n",
    "\t- CSVs of knickpoints\n",
    "\t\t- To be included:\n",
    "        - Wshed\n",
    "\t\t- elevation\n",
    "\t\t- Coords\n",
    "\t\t- Shapefile geology\n",
    "\t\t- Nearest roadcut geology that is also within some threshold of elevation from knickpoint.  Do buffer around knickpoint select closest to elevation.\n",
    "\t\t- Stream cover type (to allow narrowing to bedrock)\n",
    "\t\t- If BR, fracture data, if AP, bedding\n",
    "\t\t- If not in AP or BR, Send back a message being like sorry dawg.\n",
    "\t\t- Depth to mantle @ knickpoint.  Z score to average depth in region.\n",
    "\t\t- Slope"
   ]
  },
  {
   "cell_type": "markdown",
   "id": "253cd715",
   "metadata": {},
   "source": [
    "# Code begins here!\n",
    "\n",
    "#### Below is a 'code cell'.  This is a block of text that Jupyter and Python use to perform tasks.\n",
    "\n",
    "#### To run the following code cell and all code cells below, select the cell and press\n",
    "# <p style=\"color: aqua;\">Shift+Enter.</p>"
   ]
  },
  {
   "cell_type": "code",
   "execution_count": null,
   "id": "9159ae0c",
   "metadata": {},
   "outputs": [],
   "source": [
    "# This is called a comment.  Denoted by the '#' behind the text, it allows me to better explain code cells while still being a begign line of text.\n",
    "\n",
    "# First, we import the YML file.  This saves you the work of making your own python environment and installing a bunch of packages.\n",
    "#!conda env create -f env.yml"
   ]
  },
  {
   "cell_type": "code",
   "execution_count": 1,
   "id": "da2eb4c8",
   "metadata": {},
   "outputs": [],
   "source": [
    "# From google drive, let's get the peripheral files our code will use.\n",
    "#function here that imports shit"
   ]
  },
  {
   "cell_type": "code",
   "execution_count": null,
   "id": "adbb3d77",
   "metadata": {},
   "outputs": [],
   "source": [
    "# Import packages to our notebook.\n",
    "# We must do this to use the functions contained inside the packages.\n",
    "# Some functions have 'as' in the import call.  This is for less typing, and nothing else.\n",
    "# Google any package name and 'docs' in order to find more detailed explanation of any one package.\n",
    "import numpy as np\n",
    "import pandas as pd\n",
    "import matplotlib.pyplot as plt\n",
    "%matplotlib inline\n",
    "import geopandas as gpd\n",
    "import xdem\n",
    "import os\n",
    "import rasterio as rio\n",
    "from rasterio.plot import show\n",
    "import glob\n",
    "from concurrent.futures import ThreadPoolExecutor"
   ]
  },
  {
   "cell_type": "markdown",
   "id": "5a698607",
   "metadata": {},
   "source": [
    "#### Phew!  That was a lot of initial stuff, but no worries.  We can start *really* coding now."
   ]
  },
  {
   "cell_type": "markdown",
   "id": "1c1e038a",
   "metadata": {},
   "source": [
    "#### Below is a code cell containing our **Constant** Variables, which you may change as you see fit for your particular analyses.\n",
    "\n",
    "#### Below are \n",
    "- Integers\n",
    "- Lists (denoted by square brackets at the beginning and end, separated by commas [a, b, c, d])\n",
    "- Strings (contained within quotes 'Like this!')"
   ]
  },
  {
   "cell_type": "code",
   "execution_count": 6,
   "id": "d7d73e15",
   "metadata": {},
   "outputs": [],
   "source": [
    "# Every time you change something within the code cell, run it once more to update the variable.\n",
    "\n",
    "BOUNDS = [1.0, 2.0, 3.0, 4.0] # In decimal coordinate form.  Format: [N, E, S, W].  Select the smallest area possible in your analyses for maximum resoultion!\n",
    "API_KEY = 'placeholder' # Get your API key from opentopography.org.  Students get higher resolution data!\n",
    "DEM_DATASET = 'USGS30m' # Options are USGS30m, USGS10m, & USGS1m.  Be warned!  As resolution goes up, available area goes down.\n",
    "WBD_SCALE = 8 # Size threshold of watersheds your DEM will be split into.  From largest to smallest, the options are 4, 6, 8, & 10.  See below for examples of scale.\n",
    "PROJ_TITLE = 'placeholder' # Create a succinct name with no spaces or leading digits to represent your project file for future exports."
   ]
  },
  {
   "cell_type": "code",
   "execution_count": null,
   "id": "bc4d1159",
   "metadata": {},
   "outputs": [],
   "source": []
  }
 ],
 "metadata": {
  "kernelspec": {
   "display_name": "Python 3",
   "language": "python",
   "name": "python3"
  },
  "language_info": {
   "codemirror_mode": {
    "name": "ipython",
    "version": 3
   },
   "file_extension": ".py",
   "mimetype": "text/x-python",
   "name": "python",
   "nbconvert_exporter": "python",
   "pygments_lexer": "ipython3",
   "version": "3.8.12"
  }
 },
 "nbformat": 4,
 "nbformat_minor": 5
}
