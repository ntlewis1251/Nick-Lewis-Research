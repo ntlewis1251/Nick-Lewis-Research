{
 "cells": [
  {
   "cell_type": "markdown",
   "id": "b705f380",
   "metadata": {},
   "source": [
    "## Glob paths to my DEMs."
   ]
  },
  {
   "cell_type": "code",
   "execution_count": 1,
   "id": "509e71f2",
   "metadata": {},
   "outputs": [],
   "source": [
    "import glob\n",
    "path_list = glob.glob('/sciclone/home/ntlewis/Nick-Lewis-Research/working_files/data/watersheds/*')"
   ]
  }
 ],
 "metadata": {
  "kernelspec": {
   "display_name": "Python 3",
   "language": "python",
   "name": "python3"
  },
  "language_info": {
   "codemirror_mode": {
    "name": "ipython",
    "version": 3
   },
   "file_extension": ".py",
   "mimetype": "text/x-python",
   "name": "python",
   "nbconvert_exporter": "python",
   "pygments_lexer": "ipython3",
   "version": "3.8.20"
  }
 },
 "nbformat": 4,
 "nbformat_minor": 5
}
